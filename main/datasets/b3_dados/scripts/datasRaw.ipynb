{
 "cells": [
  {
   "cell_type": "code",
   "execution_count": 3,
   "metadata": {},
   "outputs": [
    {
     "name": "stderr",
     "output_type": "stream",
     "text": [
      "[*********************100%***********************]  1 of 1 completed"
     ]
    },
    {
     "name": "stdout",
     "output_type": "stream",
     "text": [
      "Downloading datas of ITUB4.SA...\n"
     ]
    },
    {
     "name": "stderr",
     "output_type": "stream",
     "text": [
      "\n",
      "[*********************100%***********************]  1 of 1 completed"
     ]
    },
    {
     "name": "stdout",
     "output_type": "stream",
     "text": [
      "Data of ITUB4.SA save as ITUB4.csv\n",
      "Downloading datas of BBAS3.SA...\n",
      "Data of BBAS3.SA save as BBAS3.csv\n",
      "Downloading datas of CYRE3.SA...\n"
     ]
    },
    {
     "name": "stderr",
     "output_type": "stream",
     "text": [
      "\n",
      "[*********************100%***********************]  1 of 1 completed\n",
      "[*********************100%***********************]  1 of 1 completed\n"
     ]
    },
    {
     "name": "stdout",
     "output_type": "stream",
     "text": [
      "Data of CYRE3.SA save as CYRE3.csv\n",
      "Downloading datas of TEND3.SA...\n",
      "Data of TEND3.SA save as TEND3.csv\n",
      "Downloading datas of DIRR3.SA...\n"
     ]
    },
    {
     "name": "stderr",
     "output_type": "stream",
     "text": [
      "[*********************100%***********************]  1 of 1 completed\n",
      "[*********************100%***********************]  1 of 1 completed\n"
     ]
    },
    {
     "name": "stdout",
     "output_type": "stream",
     "text": [
      "Data of DIRR3.SA save as DIRR3.csv\n",
      "Downloading datas of ELET3.SA...\n",
      "Data of ELET3.SA save as ELET3.csv\n",
      "Downloading datas of EQTL3.SA...\n"
     ]
    },
    {
     "name": "stderr",
     "output_type": "stream",
     "text": [
      "[*********************100%***********************]  1 of 1 completed\n",
      "[*********************100%***********************]  1 of 1 completed"
     ]
    },
    {
     "name": "stdout",
     "output_type": "stream",
     "text": [
      "Data of EQTL3.SA save as EQTL3.csv\n",
      "Downloading datas of CMIG4.SA...\n"
     ]
    },
    {
     "name": "stderr",
     "output_type": "stream",
     "text": [
      "\n",
      "[*********************100%***********************]  1 of 1 completed\n",
      "[*********************100%***********************]  1 of 1 completed"
     ]
    },
    {
     "name": "stdout",
     "output_type": "stream",
     "text": [
      "Data of CMIG4.SA save as CMIG4.csv\n",
      "Downloading datas of PETR3.SA...\n",
      "Data of PETR3.SA save as PETR3.csv\n",
      "Downloading datas of VALE3.SA...\n"
     ]
    },
    {
     "name": "stderr",
     "output_type": "stream",
     "text": [
      "\n",
      "[*********************100%***********************]  1 of 1 completed"
     ]
    },
    {
     "name": "stdout",
     "output_type": "stream",
     "text": [
      "Data of VALE3.SA save as VALE3.csv\n",
      "Downloading datas of BRAP3.SA...\n",
      "Data of BRAP3.SA save as BRAP3.csv\n"
     ]
    },
    {
     "name": "stderr",
     "output_type": "stream",
     "text": [
      "\n"
     ]
    }
   ],
   "source": [
    "import yfinance as yf\n",
    "import pandas as pd\n",
    "\n",
    "assets = ['ITUB4.SA', 'BBAS3.SA', 'CYRE3.SA', 'TEND3.SA', 'DIRR3.SA',\n",
    "         'ELET3.SA', 'EQTL3.SA', 'CMIG4.SA', 'PETR3.SA', 'VALE3.SA', 'BRAP3.SA']\n",
    "\n",
    "# data range\n",
    "start = \"2010-01-01\"\n",
    "end = \"2022-09-30\"\n",
    "\n",
    "# download data from Yahoo Finance and save as CSV files\n",
    "for asset in assets:\n",
    "    print(f\"Downloading datas of {asset}...\")\n",
    "    datas = yf.download(asset, start=start, end=end)\n",
    "\n",
    "    file_name = f\"{asset.replace('.SA', '')}.csv\"\n",
    "    datas.to_csv(file_name)\n",
    "    print(f\"Data of {asset} save as {file_name}\")"
   ]
  },
  {
   "cell_type": "markdown",
   "metadata": {},
   "source": []
  }
 ],
 "metadata": {
  "kernelspec": {
   "display_name": "base",
   "language": "python",
   "name": "python3"
  },
  "language_info": {
   "codemirror_mode": {
    "name": "ipython",
    "version": 3
   },
   "file_extension": ".py",
   "mimetype": "text/x-python",
   "name": "python",
   "nbconvert_exporter": "python",
   "pygments_lexer": "ipython3",
   "version": "3.9.7"
  }
 },
 "nbformat": 4,
 "nbformat_minor": 2
}
