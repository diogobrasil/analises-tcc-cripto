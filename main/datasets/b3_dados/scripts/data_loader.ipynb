{
 "cells": [
  {
   "cell_type": "code",
   "execution_count": 1,
   "metadata": {},
   "outputs": [
    {
     "name": "stdout",
     "output_type": "stream",
     "text": [
      "             Date      Close Ticker\n",
      "0      2010-01-04  14.950000  BBAS3\n",
      "1      2010-01-05  14.800000  BBAS3\n",
      "2      2010-01-06  14.820000  BBAS3\n",
      "3      2010-01-07  14.825000  BBAS3\n",
      "4      2010-01-08  14.910000  BBAS3\n",
      "...           ...        ...    ...\n",
      "34788  2022-09-23  68.570000  VALE3\n",
      "34789  2022-09-26  68.720001  VALE3\n",
      "34790  2022-09-27  67.699997  VALE3\n",
      "34791  2022-09-28  68.339996  VALE3\n",
      "34792  2022-09-29  68.430000  VALE3\n",
      "\n",
      "[34793 rows x 3 columns]\n"
     ]
    }
   ],
   "source": [
    "import os\n",
    "import pandas as pd\n",
    "\n",
    "def load_b3_data(processed_path='../processed/'):\n",
    "    \"\"\"\n",
    "    Load processed B3 stock data from CSV files and concatenate into a single DataFrame.\n",
    "    \n",
    "    Args:\n",
    "        processed_path (str): Path to the directory containing processed CSV files.\n",
    "    \n",
    "    Returns:\n",
    "        pd.DataFrame: Concatenated DataFrame with an additional 'Ticker' column.\n",
    "    \"\"\"\n",
    "    data = []\n",
    "    for file in os.listdir(processed_path):\n",
    "        if file.endswith('.csv'):\n",
    "            df = pd.read_csv(os.path.join(processed_path, file))\n",
    "            df['Ticker'] = file.split('.')[0]  # Add the stock ticker as a column\n",
    "            data.append(df)\n",
    "    return pd.concat(data, ignore_index=True)\n",
    "\n",
    "# Example usage\n",
    "df = load_b3_data()\n",
    "print(df)"
   ]
  }
 ],
 "metadata": {
  "kernelspec": {
   "display_name": "base",
   "language": "python",
   "name": "python3"
  },
  "language_info": {
   "codemirror_mode": {
    "name": "ipython",
    "version": 3
   },
   "file_extension": ".py",
   "mimetype": "text/x-python",
   "name": "python",
   "nbconvert_exporter": "python",
   "pygments_lexer": "ipython3",
   "version": "3.9.7"
  }
 },
 "nbformat": 4,
 "nbformat_minor": 2
}
