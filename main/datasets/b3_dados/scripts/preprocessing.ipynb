{
 "cells": [
  {
   "cell_type": "code",
   "execution_count": 17,
   "metadata": {},
   "outputs": [
    {
     "name": "stdout",
     "output_type": "stream",
     "text": [
      "Processando: BBAS3.csv\n",
      "Arquivo processado salvo em: ../processed\\BBAS3.csv\n",
      "Processando: BRAP3.csv\n",
      "Arquivo processado salvo em: ../processed\\BRAP3.csv\n",
      "Processando: CMIG4.csv\n",
      "Arquivo processado salvo em: ../processed\\CMIG4.csv\n",
      "Processando: CYRE3.csv\n",
      "Arquivo processado salvo em: ../processed\\CYRE3.csv\n",
      "Processando: DIRR3.csv\n",
      "Arquivo processado salvo em: ../processed\\DIRR3.csv\n",
      "Processando: ELET3.csv\n",
      "Arquivo processado salvo em: ../processed\\ELET3.csv\n",
      "Processando: EQTL3.csv\n",
      "Arquivo processado salvo em: ../processed\\EQTL3.csv\n",
      "Processando: ITUB4.csv\n",
      "Arquivo processado salvo em: ../processed\\ITUB4.csv\n",
      "Processando: PETR3.csv\n",
      "Arquivo processado salvo em: ../processed\\PETR3.csv\n",
      "Processando: TEND3.csv\n",
      "Arquivo processado salvo em: ../processed\\TEND3.csv\n",
      "Processando: VALE3.csv\n",
      "Arquivo processado salvo em: ../processed\\VALE3.csv\n"
     ]
    }
   ],
   "source": [
    "import os\n",
    "import pandas as pd\n",
    "\n",
    "def preprocess_all_files(raw_folder='./raw', processed_folder='./processed'):\n",
    "    # Garantir que a pasta processada exista\n",
    "    os.makedirs(processed_folder, exist_ok=True)\n",
    "    \n",
    "    # Processar cada arquivo na pasta raw\n",
    "    for file_name in os.listdir(raw_folder):\n",
    "        if file_name.endswith('.csv'):  # Verificar se é um arquivo CSV\n",
    "            file_path = os.path.join(raw_folder, file_name)\n",
    "            print(f\"Processando: {file_name}\")\n",
    "            \n",
    "            # Carregar o arquivo\n",
    "            df = pd.read_csv(file_path, skiprows=2)\n",
    "            \n",
    "            # Selecionar e renomear as colunas relevantes\n",
    "            df = df[['Date', 'Unnamed: 2']]\n",
    "            df.columns = ['Date', 'Close']\n",
    "            \n",
    "            # Converter tipos de dados\n",
    "            df['Date'] = pd.to_datetime(df['Date'], errors='coerce')\n",
    "            df['Close'] = pd.to_numeric(df['Close'], errors='coerce')\n",
    "            \n",
    "            # Remover linhas inválidas\n",
    "            df = df.dropna()\n",
    "            \n",
    "            # Ordenar por data\n",
    "            df = df.sort_values(by='Date').reset_index(drop=True)\n",
    "            \n",
    "            # Salvar o arquivo processado na pasta processed\n",
    "            output_path = os.path.join(processed_folder, file_name)\n",
    "            df.to_csv(output_path, index=False)\n",
    "            print(f\"Arquivo processado salvo em: {output_path}\")\n",
    "\n",
    "# Exemplo de uso\n",
    "preprocess_all_files(raw_folder='../raw', processed_folder='../processed')\n"
   ]
  }
 ],
 "metadata": {
  "kernelspec": {
   "display_name": "tcc_cripto",
   "language": "python",
   "name": "python3"
  },
  "language_info": {
   "codemirror_mode": {
    "name": "ipython",
    "version": 3
   },
   "file_extension": ".py",
   "mimetype": "text/x-python",
   "name": "python",
   "nbconvert_exporter": "python",
   "pygments_lexer": "ipython3",
   "version": "3.9.17"
  }
 },
 "nbformat": 4,
 "nbformat_minor": 2
}
